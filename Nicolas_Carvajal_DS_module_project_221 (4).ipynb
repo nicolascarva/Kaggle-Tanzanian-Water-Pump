{
 "cells": [
  {
   "cell_type": "markdown",
   "metadata": {
    "deletable": false,
    "editable": false,
    "id": "XGEC_rMDK8Im",
    "nbgrader": {
     "cell_type": "markdown",
     "checksum": "ac72bfac81abf24f9450b9835bc85d07",
     "grade": false,
     "grade_id": "cell-06b3a652620668ef",
     "locked": true,
     "schema_version": 3,
     "solution": false,
     "task": false
    }
   },
   "source": [
    "Lambda School Data Science\n",
    "\n",
    "*Unit 2, Sprint 2, Module 1*\n",
    "\n",
    "---"
   ]
  },
  {
   "cell_type": "code",
   "execution_count": 1,
   "metadata": {
    "colab": {
     "base_uri": "https://localhost:8080/"
    },
    "deletable": false,
    "editable": false,
    "id": "o9eSnDYhUGD7",
    "nbgrader": {
     "cell_type": "code",
     "checksum": "d065a7f431f667bb063b90c023f0dbc1",
     "grade": false,
     "grade_id": "cell-e0ed37c9a5d0e6a9",
     "locked": true,
     "schema_version": 3,
     "solution": false,
     "task": false
    },
    "outputId": "dd9e902e-2fcc-407c-8fef-590729d78326"
   },
   "outputs": [],
   "source": [
    "import sys\n",
    "\n",
    "# If you're on Colab:\n",
    "if 'google.colab' in sys.modules:\n",
    "    !pip install category_encoders==2.*\n",
    "    !pip install pandas-profiling==2.*\n",
    "\n",
    "DATA_PATH = 'https://raw.githubusercontent.com/LambdaSchool/DS-Unit-2-Kaggle-Challenge/master/data/'"
   ]
  },
  {
   "cell_type": "code",
   "execution_count": 60,
   "metadata": {
    "id": "Zp1eAYDMlLvn",
    "scrolled": false
   },
   "outputs": [],
   "source": [
    "from category_encoders import OneHotEncoder, OrdinalEncoder\n",
    "from pandas_profiling import ProfileReport\n",
    "from sklearn.impute import SimpleImputer\n",
    "from sklearn.linear_model import LogisticRegression\n",
    "from sklearn.model_selection import train_test_split\n",
    "from sklearn.pipeline import make_pipeline\n",
    "from sklearn.preprocessing import StandardScaler\n",
    "from sklearn.tree import DecisionTreeClassifier\n",
    "from sklearn.tree import export_graphviz\n",
    "from sklearn.feature_selection import SelectKBest\n",
    "# import graphviz\n",
    "import matplotlib.pyplot as plt\n",
    "import pandas as pd\n",
    "import numpy as np\n",
    "from sklearn.ensemble import RandomForestClassifier\n",
    "from sklearn.model_selection import cross_val_score\n",
    "from sklearn.model_selection import GridSearchCV, RandomizedSearchCV\n",
    "from skopt import BayesSearchCV\n"
   ]
  },
  {
   "cell_type": "code",
   "execution_count": null,
   "metadata": {},
   "outputs": [],
   "source": []
  },
  {
   "cell_type": "markdown",
   "metadata": {
    "deletable": false,
    "editable": false,
    "id": "RU-80z2JK8I1",
    "nbgrader": {
     "cell_type": "markdown",
     "checksum": "ff7078bb0a4fb4b482d13864539dc6d8",
     "grade": false,
     "grade_id": "cell-85703297fb27b195",
     "locked": true,
     "schema_version": 3,
     "solution": false,
     "task": false
    }
   },
   "source": [
    "# Decision Trees"
   ]
  },
  {
   "cell_type": "markdown",
   "metadata": {
    "deletable": false,
    "editable": false,
    "id": "aOKIYd4KK8I1",
    "nbgrader": {
     "cell_type": "markdown",
     "checksum": "ad8f90528d5c7adfc38d154586deae52",
     "grade": false,
     "grade_id": "cell-4b05735817ab984e",
     "locked": true,
     "schema_version": 3,
     "solution": false,
     "task": false
    }
   },
   "source": [
    "## Kaggle\n",
    "\n",
    "**Task 1:** [Sign up for a Kaggle account](https://www.kaggle.com/), if you don’t already have one. Go to our Kaggle InClass competition website (the URL is in Slack). Go to the Rules page. Accept the rules of the competition. Notice that the Rules page also has instructions for the Submission process. The Data page has feature definitions."
   ]
  },
  {
   "cell_type": "markdown",
   "metadata": {
    "deletable": false,
    "editable": false,
    "id": "lsO-Rw80K8I2",
    "nbgrader": {
     "cell_type": "markdown",
     "checksum": "fd9d50fa771b27245b5fd407ed3ea2e5",
     "grade": false,
     "grade_id": "cell-6c43283f79ddc4dc",
     "locked": true,
     "schema_version": 3,
     "solution": false,
     "task": false
    }
   },
   "source": [
    "## Wrangle Data\n",
    "\n",
    "**Task 2:** Add to the code below so that `id` is set as the index for `df`."
   ]
  },
  {
   "cell_type": "code",
   "execution_count": 4,
   "metadata": {
    "colab": {
     "base_uri": "https://localhost:8080/"
    },
    "deletable": false,
    "id": "4CTFBYoeK8I3",
    "nbgrader": {
     "cell_type": "code",
     "checksum": "a99d8dc738e24ba553771b58c41e4e82",
     "grade": false,
     "grade_id": "cell-e2eb2544508f89ef",
     "locked": false,
     "schema_version": 3,
     "solution": true,
     "task": false
    },
    "outputId": "b35ec82c-7e9f-45f3-df54-e5dbd5d9b8dd"
   },
   "outputs": [
    {
     "name": "stdout",
     "output_type": "stream",
     "text": [
      "Columns dropped because of high cardinality:  ['wpt_name', 'subvillage', 'recorded_by']\n",
      "Columns dropped for being repeat:  ['extraction_type', 'extraction_type_class', 'management', 'payment', 'water_quality', 'quantity', 'source', 'waterpoint_type']\n",
      "Columns dropped because of high cardinality:  ['wpt_name', 'subvillage', 'recorded_by']\n",
      "Columns dropped for being repeat:  ['extraction_type', 'extraction_type_class', 'management', 'payment', 'water_quality', 'quantity', 'source', 'waterpoint_type']\n"
     ]
    }
   ],
   "source": [
    "import pandas as pd\n",
    "\n",
    "# df = pd.merge(pd.read_csv(DATA_PATH + 'waterpumps/train_features.csv'),\n",
    "#               pd.read_csv(DATA_PATH + 'waterpumps/train_labels.csv'))\n",
    "# YOUR CODE HERE\n",
    "def wrangle(filepath1, filepath2=None):\n",
    "  df_=pd.read_csv(filepath1, parse_dates= ['date_recorded'])\n",
    "  \n",
    "  if filepath2:\n",
    "    df = pd.merge(df_,\n",
    "              pd.read_csv(filepath2), on='id').set_index('id')\n",
    "    \n",
    "  else:\n",
    "    df=df_.set_index('id')\n",
    " \n",
    "\n",
    " ##Change 0s in Lat and Long to NaN\n",
    "  df['latitude'] = df['latitude'].mask(df['latitude'].abs() < .05, np.NaN)\n",
    "  df['longitude'] = df['longitude'].mask(df['longitude'].abs() < .05, np.NaN) \n",
    "  mean_pos=df[['region_code','latitude', 'longitude']].groupby('region_code').mean()\n",
    "  # long_mean_rc=df[['region_code','longitude']].groupby('region_code').mean()\n",
    "  ##Replace NaNs with \n",
    "  for x in df.index.to_list():\n",
    "   if df.loc[x,'latitude'] != df.loc[x,'latitude']:\n",
    "     naregioncode=df.loc[x, 'region_code']\n",
    "     reg_mean_lat=mean_pos.loc[naregioncode,'latitude']\n",
    "     reg_mean_long=mean_pos.loc[naregioncode,'longitude']\n",
    "\n",
    "     df.loc[x,'latitude']=reg_mean_lat\n",
    "     df.loc[x,'longitude']=reg_mean_long\n",
    "\n",
    "\n",
    "  # Cells dropped because of HC or only 1 value\n",
    "  drop_cols_hc = [col for col in df.select_dtypes('object') \n",
    "                  if (df[col].nunique()>5000) | (df[col].nunique()==1)]\n",
    "\n",
    "  # ['recorded_by', 'wpt_name', 'scheme_name', 'extraction_type_group','quantity_group', 'source_type', 'waterpoint_type_group']\n",
    "  df=df.drop(columns=drop_cols_hc)\n",
    "  print('Columns dropped because of high cardinality: ', drop_cols_hc)\n",
    "\n",
    "  ##Drop repeated columns (trying higher cardinality first, except in columns repeated in threes (removed middle cardinality)):\n",
    "  drop_cols_rep_lc = ['extraction_type','extraction_type_class','management', 'payment', 'water_quality', 'quantity',\n",
    "        'source','waterpoint_type']\n",
    "  drop_cols_rep_hc=['extraction_type_group', 'management_group',\n",
    "       'payment_type', 'quality_group',\n",
    "       'quantity_group', 'source_type', 'waterpoint_type_group']\n",
    "  df=df.drop(columns=drop_cols_rep_lc)\n",
    "  print('Columns dropped for being repeat: ', drop_cols_rep_lc)\n",
    "\n",
    "\n",
    "  #Calculate years since construction, drop date_recorded column\n",
    "  df['yrs_since_const']= (df['date_recorded'].dt.year-df['construction_year'])\n",
    "  df['yrs_since_const']=df['yrs_since_const'].astype(int)\n",
    "  df=df.drop(columns='date_recorded')\n",
    "  #Replace >100 values of years with construction for NaN\n",
    "  df.loc[(df['yrs_since_const']>100) | (df['yrs_since_const']<0), 'yrs_since_const']=np.NaN\n",
    "\n",
    "\n",
    "  ### Experiment area:\n",
    "\n",
    "  \n",
    "\n",
    "  \n",
    "  \n",
    "  \n",
    "  return df\n",
    "\n",
    "df=wrangle(DATA_PATH + 'waterpumps/train_features.csv',\n",
    "           DATA_PATH + 'waterpumps/train_labels.csv')\n",
    "X_test=wrangle(DATA_PATH + 'waterpumps/test_features.csv')\n",
    "df.shape\n",
    "\n",
    "##Calculate mean lat and long values for region code\n",
    "lat_mean_rc=df[['region_code','latitude']].set_index('region_code').groupby('region_code').mean()\n",
    "long_mean_rc=df[['region_code','longitude']].set_index('region_code').groupby('region_code').mean()\n",
    "\n",
    "\n",
    "\n",
    "## for extreme cardinality, scheme name for high percentage of NaN, extraction_type_group and quantity_group, source_type for being repeated"
   ]
  },
  {
   "cell_type": "markdown",
   "metadata": {
    "deletable": false,
    "editable": false,
    "id": "rhtktxSZK8I6",
    "nbgrader": {
     "cell_type": "markdown",
     "checksum": "26f7a327a6b7a3e2e00173e6f75519bd",
     "grade": false,
     "grade_id": "cell-1a84f0ae77611032",
     "locked": true,
     "schema_version": 3,
     "solution": false,
     "task": false
    }
   },
   "source": [
    "## Split Data\n",
    "\n",
    "**Task 3:** Create your target vector `y` and feature matrix `X`."
   ]
  },
  {
   "cell_type": "code",
   "execution_count": 5,
   "metadata": {
    "colab": {
     "base_uri": "https://localhost:8080/"
    },
    "deletable": false,
    "id": "bVIicerJK8I7",
    "nbgrader": {
     "cell_type": "code",
     "checksum": "06665db4ef96abbf7f715c4dd554f19b",
     "grade": false,
     "grade_id": "cell-c94bceb606d02353",
     "locked": false,
     "schema_version": 3,
     "solution": true,
     "task": false
    },
    "outputId": "f6b4bf0d-a9b6-484a-f27d-f783dfa097d3"
   },
   "outputs": [
    {
     "data": {
      "text/plain": [
       "(59400, 28)"
      ]
     },
     "execution_count": 5,
     "metadata": {},
     "output_type": "execute_result"
    }
   ],
   "source": [
    "target = 'status_group'\n",
    "\n",
    "# YOUR CODE HERE\n",
    "y=df[target]\n",
    "X=df.drop(columns=target)\n",
    "X.shape"
   ]
  },
  {
   "cell_type": "markdown",
   "metadata": {
    "deletable": false,
    "editable": false,
    "id": "3EEmCWRzK8I8",
    "nbgrader": {
     "cell_type": "markdown",
     "checksum": "ad5f005274a47a2acc8d9bb8bc8bbd84",
     "grade": false,
     "grade_id": "cell-96e0701792e522b6",
     "locked": true,
     "schema_version": 3,
     "solution": false,
     "task": false
    }
   },
   "source": [
    "Train-Val Split"
   ]
  },
  {
   "cell_type": "code",
   "execution_count": 6,
   "metadata": {
    "colab": {
     "base_uri": "https://localhost:8080/",
     "height": 272
    },
    "deletable": false,
    "id": "7axJtWpWK8I8",
    "nbgrader": {
     "cell_type": "code",
     "checksum": "4b417b896298dc539f4d351d4f958172",
     "grade": false,
     "grade_id": "cell-018b7c0deecc89dc",
     "locked": false,
     "schema_version": 3,
     "solution": true,
     "task": false
    },
    "outputId": "500c1ee0-9634-4990-9c0d-335cb1e8e0ed"
   },
   "outputs": [
    {
     "data": {
      "text/html": [
       "<div>\n",
       "<style scoped>\n",
       "    .dataframe tbody tr th:only-of-type {\n",
       "        vertical-align: middle;\n",
       "    }\n",
       "\n",
       "    .dataframe tbody tr th {\n",
       "        vertical-align: top;\n",
       "    }\n",
       "\n",
       "    .dataframe thead th {\n",
       "        text-align: right;\n",
       "    }\n",
       "</style>\n",
       "<table border=\"1\" class=\"dataframe\">\n",
       "  <thead>\n",
       "    <tr style=\"text-align: right;\">\n",
       "      <th></th>\n",
       "      <th>amount_tsh</th>\n",
       "      <th>funder</th>\n",
       "      <th>gps_height</th>\n",
       "      <th>installer</th>\n",
       "      <th>longitude</th>\n",
       "      <th>latitude</th>\n",
       "      <th>num_private</th>\n",
       "      <th>basin</th>\n",
       "      <th>region</th>\n",
       "      <th>region_code</th>\n",
       "      <th>...</th>\n",
       "      <th>construction_year</th>\n",
       "      <th>extraction_type_group</th>\n",
       "      <th>management_group</th>\n",
       "      <th>payment_type</th>\n",
       "      <th>quality_group</th>\n",
       "      <th>quantity_group</th>\n",
       "      <th>source_type</th>\n",
       "      <th>source_class</th>\n",
       "      <th>waterpoint_type_group</th>\n",
       "      <th>yrs_since_const</th>\n",
       "    </tr>\n",
       "    <tr>\n",
       "      <th>id</th>\n",
       "      <th></th>\n",
       "      <th></th>\n",
       "      <th></th>\n",
       "      <th></th>\n",
       "      <th></th>\n",
       "      <th></th>\n",
       "      <th></th>\n",
       "      <th></th>\n",
       "      <th></th>\n",
       "      <th></th>\n",
       "      <th></th>\n",
       "      <th></th>\n",
       "      <th></th>\n",
       "      <th></th>\n",
       "      <th></th>\n",
       "      <th></th>\n",
       "      <th></th>\n",
       "      <th></th>\n",
       "      <th></th>\n",
       "      <th></th>\n",
       "      <th></th>\n",
       "    </tr>\n",
       "  </thead>\n",
       "  <tbody>\n",
       "    <tr>\n",
       "      <th>454</th>\n",
       "      <td>50.0</td>\n",
       "      <td>Dmdd</td>\n",
       "      <td>2092</td>\n",
       "      <td>DMDD</td>\n",
       "      <td>35.426020</td>\n",
       "      <td>-4.227446</td>\n",
       "      <td>0</td>\n",
       "      <td>Internal</td>\n",
       "      <td>Manyara</td>\n",
       "      <td>21</td>\n",
       "      <td>...</td>\n",
       "      <td>1998</td>\n",
       "      <td>gravity</td>\n",
       "      <td>user-group</td>\n",
       "      <td>per bucket</td>\n",
       "      <td>good</td>\n",
       "      <td>insufficient</td>\n",
       "      <td>spring</td>\n",
       "      <td>groundwater</td>\n",
       "      <td>communal standpipe</td>\n",
       "      <td>15.0</td>\n",
       "    </tr>\n",
       "    <tr>\n",
       "      <th>510</th>\n",
       "      <td>0.0</td>\n",
       "      <td>Cmsr</td>\n",
       "      <td>0</td>\n",
       "      <td>Gove</td>\n",
       "      <td>35.510074</td>\n",
       "      <td>-5.724555</td>\n",
       "      <td>0</td>\n",
       "      <td>Internal</td>\n",
       "      <td>Dodoma</td>\n",
       "      <td>1</td>\n",
       "      <td>...</td>\n",
       "      <td>0</td>\n",
       "      <td>india mark ii</td>\n",
       "      <td>user-group</td>\n",
       "      <td>never pay</td>\n",
       "      <td>good</td>\n",
       "      <td>enough</td>\n",
       "      <td>shallow well</td>\n",
       "      <td>groundwater</td>\n",
       "      <td>hand pump</td>\n",
       "      <td>NaN</td>\n",
       "    </tr>\n",
       "    <tr>\n",
       "      <th>14146</th>\n",
       "      <td>0.0</td>\n",
       "      <td>Kkkt</td>\n",
       "      <td>0</td>\n",
       "      <td>KKKT</td>\n",
       "      <td>32.499866</td>\n",
       "      <td>-9.081222</td>\n",
       "      <td>0</td>\n",
       "      <td>Lake Rukwa</td>\n",
       "      <td>Mbeya</td>\n",
       "      <td>12</td>\n",
       "      <td>...</td>\n",
       "      <td>0</td>\n",
       "      <td>other</td>\n",
       "      <td>user-group</td>\n",
       "      <td>never pay</td>\n",
       "      <td>good</td>\n",
       "      <td>enough</td>\n",
       "      <td>shallow well</td>\n",
       "      <td>groundwater</td>\n",
       "      <td>other</td>\n",
       "      <td>NaN</td>\n",
       "    </tr>\n",
       "    <tr>\n",
       "      <th>47410</th>\n",
       "      <td>0.0</td>\n",
       "      <td>NaN</td>\n",
       "      <td>0</td>\n",
       "      <td>NaN</td>\n",
       "      <td>34.060484</td>\n",
       "      <td>-8.830208</td>\n",
       "      <td>0</td>\n",
       "      <td>Rufiji</td>\n",
       "      <td>Mbeya</td>\n",
       "      <td>12</td>\n",
       "      <td>...</td>\n",
       "      <td>0</td>\n",
       "      <td>gravity</td>\n",
       "      <td>user-group</td>\n",
       "      <td>monthly</td>\n",
       "      <td>good</td>\n",
       "      <td>insufficient</td>\n",
       "      <td>river/lake</td>\n",
       "      <td>surface</td>\n",
       "      <td>communal standpipe</td>\n",
       "      <td>NaN</td>\n",
       "    </tr>\n",
       "    <tr>\n",
       "      <th>1288</th>\n",
       "      <td>300.0</td>\n",
       "      <td>Ki</td>\n",
       "      <td>1023</td>\n",
       "      <td>Ki</td>\n",
       "      <td>37.032690</td>\n",
       "      <td>-6.040787</td>\n",
       "      <td>0</td>\n",
       "      <td>Wami / Ruvu</td>\n",
       "      <td>Morogoro</td>\n",
       "      <td>5</td>\n",
       "      <td>...</td>\n",
       "      <td>1997</td>\n",
       "      <td>other</td>\n",
       "      <td>user-group</td>\n",
       "      <td>on failure</td>\n",
       "      <td>salty</td>\n",
       "      <td>enough</td>\n",
       "      <td>shallow well</td>\n",
       "      <td>groundwater</td>\n",
       "      <td>other</td>\n",
       "      <td>14.0</td>\n",
       "    </tr>\n",
       "  </tbody>\n",
       "</table>\n",
       "<p>5 rows × 28 columns</p>\n",
       "</div>"
      ],
      "text/plain": [
       "       amount_tsh funder  gps_height installer  longitude  latitude  \\\n",
       "id                                                                    \n",
       "454          50.0   Dmdd        2092      DMDD  35.426020 -4.227446   \n",
       "510           0.0   Cmsr           0      Gove  35.510074 -5.724555   \n",
       "14146         0.0   Kkkt           0      KKKT  32.499866 -9.081222   \n",
       "47410         0.0    NaN           0       NaN  34.060484 -8.830208   \n",
       "1288        300.0     Ki        1023        Ki  37.032690 -6.040787   \n",
       "\n",
       "       num_private        basin    region  region_code  ...  \\\n",
       "id                                                      ...   \n",
       "454              0     Internal   Manyara           21  ...   \n",
       "510              0     Internal    Dodoma            1  ...   \n",
       "14146            0   Lake Rukwa     Mbeya           12  ...   \n",
       "47410            0       Rufiji     Mbeya           12  ...   \n",
       "1288             0  Wami / Ruvu  Morogoro            5  ...   \n",
       "\n",
       "       construction_year extraction_type_group management_group  payment_type  \\\n",
       "id                                                                              \n",
       "454                 1998               gravity       user-group    per bucket   \n",
       "510                    0         india mark ii       user-group     never pay   \n",
       "14146                  0                 other       user-group     never pay   \n",
       "47410                  0               gravity       user-group       monthly   \n",
       "1288                1997                 other       user-group    on failure   \n",
       "\n",
       "      quality_group quantity_group   source_type source_class  \\\n",
       "id                                                              \n",
       "454            good   insufficient        spring  groundwater   \n",
       "510            good         enough  shallow well  groundwater   \n",
       "14146          good         enough  shallow well  groundwater   \n",
       "47410          good   insufficient    river/lake      surface   \n",
       "1288          salty         enough  shallow well  groundwater   \n",
       "\n",
       "       waterpoint_type_group yrs_since_const  \n",
       "id                                            \n",
       "454       communal standpipe            15.0  \n",
       "510                hand pump             NaN  \n",
       "14146                  other             NaN  \n",
       "47410     communal standpipe             NaN  \n",
       "1288                   other            14.0  \n",
       "\n",
       "[5 rows x 28 columns]"
      ]
     },
     "execution_count": 6,
     "metadata": {},
     "output_type": "execute_result"
    }
   ],
   "source": [
    "from sklearn.model_selection import train_test_split\n",
    "\n",
    "# YOUR CODE HERE\n",
    "X_train, X_val, y_train, y_val = train_test_split(X,y, test_size=.2, random_state=42)\n",
    "X_train.head()"
   ]
  },
  {
   "cell_type": "markdown",
   "metadata": {
    "deletable": false,
    "editable": false,
    "id": "L1QOZ2ELK8I9",
    "nbgrader": {
     "cell_type": "markdown",
     "checksum": "e787af946d17a1f823c209349a810942",
     "grade": false,
     "grade_id": "cell-4eb573c00f7e3219",
     "locked": true,
     "schema_version": 3,
     "solution": false,
     "task": false
    }
   },
   "source": [
    "## Establish Baseline\n",
    "\n",
    "**Task 5:** This is a **classification** problem, so you need to establish the baseline accuracy for your training set. Find the majority class for `y_train` and calculate the percentage of labels in `y_train` belonging to that class. Assign your answer to the variable name `baseline_acc`."
   ]
  },
  {
   "cell_type": "code",
   "execution_count": 7,
   "metadata": {
    "colab": {
     "base_uri": "https://localhost:8080/"
    },
    "deletable": false,
    "id": "THBPIrB_K8I-",
    "nbgrader": {
     "cell_type": "code",
     "checksum": "6b5e3397d4e5c153e839b6fb53525f76",
     "grade": false,
     "grade_id": "cell-c6c63e2b6ff9e101",
     "locked": false,
     "schema_version": 3,
     "solution": true,
     "task": false
    },
    "outputId": "292a9766-399c-4d3e-b1ea-d721cb6d9920"
   },
   "outputs": [
    {
     "name": "stdout",
     "output_type": "stream",
     "text": [
      "Baseline Accuracy: 0.5429713804713805\n"
     ]
    }
   ],
   "source": [
    "# YOUR CODE HERE\n",
    "baseline_acc = y_train.value_counts(normalize=True).max()\n",
    "print('Baseline Accuracy:', baseline_acc)"
   ]
  },
  {
   "cell_type": "markdown",
   "metadata": {
    "deletable": false,
    "editable": false,
    "id": "oSs5kLa8K8I_",
    "nbgrader": {
     "cell_type": "markdown",
     "checksum": "8ff10811aa8b551ae8d1f93475d566fc",
     "grade": false,
     "grade_id": "cell-10c13b070533d8b5",
     "locked": true,
     "schema_version": 3,
     "solution": false,
     "task": false
    }
   },
   "source": [
    "## Build Model"
   ]
  },
  {
   "cell_type": "markdown",
   "metadata": {
    "deletable": false,
    "editable": false,
    "id": "t2QBpdpxK8I_",
    "nbgrader": {
     "cell_type": "markdown",
     "checksum": "92d0226782f7a5b7b1a41be67a0cf1ae",
     "grade": false,
     "grade_id": "cell-9759a1c2167a5dfc",
     "locked": true,
     "schema_version": 3,
     "solution": false,
     "task": false
    }
   },
   "source": [
    "**Task 6:** Create a model named `model` and train it with your training data. Your model should be a pipeline with (a) transformers that you think are appropriate to this dataset and (b) a `DecisionTreeClassifier` as your predictor. **Tip:** How can you transform categorical features and missing values in order to train your model?"
   ]
  },
  {
   "cell_type": "code",
   "execution_count": 8,
   "metadata": {
    "deletable": false,
    "id": "S-pm_pe6K8I_",
    "nbgrader": {
     "cell_type": "code",
     "checksum": "8c5b2cabd3d5d1adbfad3706bd025cd4",
     "grade": false,
     "grade_id": "cell-0c7c4d20b0f0fc70",
     "locked": false,
     "schema_version": 3,
     "solution": true,
     "task": false
    }
   },
   "outputs": [],
   "source": [
    "tree_model = make_pipeline(\n",
    "    OrdinalEncoder(),\n",
    "    SimpleImputer(strategy='median'),\n",
    "    DecisionTreeClassifier(random_state=42)\n",
    ")\n",
    "\n",
    "tree_model.fit(X_train,y_train);"
   ]
  },
  {
   "cell_type": "code",
   "execution_count": 9,
   "metadata": {
    "id": "FxNJVWHF-SIB"
   },
   "outputs": [],
   "source": [
    "rf_model=make_pipeline(\n",
    "    OrdinalEncoder(),\n",
    "    SimpleImputer(strategy='median'),\n",
    "    RandomForestClassifier(random_state=42)\n",
    ")\n",
    "\n",
    "rf_model.fit(X_train,y_train);"
   ]
  },
  {
   "cell_type": "markdown",
   "metadata": {
    "id": "ivDX00qcSROt"
   },
   "source": [
    "TUNE"
   ]
  },
  {
   "cell_type": "code",
   "execution_count": 10,
   "metadata": {
    "id": "ZYzfeJsVSSne"
   },
   "outputs": [],
   "source": [
    "estimator = make_pipeline(\n",
    "    OrdinalEncoder(),\n",
    "    SimpleImputer(),\n",
    "    RandomForestClassifier(random_state=42)\n",
    ")\n",
    "\n",
    "params = {\n",
    "    'simpleimputer__strategy': ['mean', 'median'],\n",
    "    'randomforestclassifier__n_estimators': [25, 50, 75, 100],\n",
    "    'randomforestclassifier__max_depth': range(5, 36, 5)\n",
    "}\n"
   ]
  },
  {
   "cell_type": "code",
   "execution_count": 22,
   "metadata": {
    "colab": {
     "base_uri": "https://localhost:8080/",
     "height": 361
    },
    "id": "ZCC1w0wNScfV",
    "outputId": "ee58b9d1-3660-4f0e-c2d1-7d1de4edc305"
   },
   "outputs": [
    {
     "name": "stdout",
     "output_type": "stream",
     "text": [
      "Fitting 15 folds for each of 45 candidates, totalling 675 fits\n"
     ]
    }
   ],
   "source": [
    "model_rs1 = RandomizedSearchCV(\n",
    "    estimator,\n",
    "    param_distributions=params,\n",
    "    n_iter=45,\n",
    "    cv=15,\n",
    "    n_jobs=-2,\n",
    "    verbose=1\n",
    ")\n",
    "\n",
    "model_rs1.fit(X_train, y_train);"
   ]
  },
  {
   "cell_type": "code",
   "execution_count": 48,
   "metadata": {},
   "outputs": [
    {
     "name": "stdout",
     "output_type": "stream",
     "text": [
      "Fitting 10 folds for each of 20 candidates, totalling 200 fits\n"
     ]
    }
   ],
   "source": [
    "#Grid Search\n",
    "estimator = make_pipeline(\n",
    "    OrdinalEncoder(),\n",
    "    SimpleImputer(),\n",
    "    RandomForestClassifier(random_state=42)\n",
    ")\n",
    "\n",
    "params = {\n",
    "    'simpleimputer__strategy': ['mean','median'],\n",
    "    'randomforestclassifier__n_estimators': range(98,103,1),\n",
    "    'randomforestclassifier__max_depth': range(18, 25, 2)\n",
    "}\n",
    "\n",
    "model_gs = GridSearchCV(\n",
    "    estimator,\n",
    "    param_grid=params,\n",
    "    cv=10,\n",
    "    n_jobs=-2,\n",
    "    verbose=1\n",
    ")\n",
    "\n",
    "model_gs.fit(X_train, y_train);"
   ]
  },
  {
   "cell_type": "code",
   "execution_count": 49,
   "metadata": {},
   "outputs": [
    {
     "name": "stdout",
     "output_type": "stream",
     "text": [
      "FOREST: Training Accuracy: 0.9606481481481481\n",
      "FOREST: Validation Accuracy: 0.8127104377104377\n"
     ]
    }
   ],
   "source": [
    "print('FOREST: Training Accuracy:', model_gs.score(X_train, y_train))\n",
    "print('FOREST: Validation Accuracy:', model_gs.score(X_val, y_val))\n",
    "results = results.append(record(model_gs))"
   ]
  },
  {
   "cell_type": "code",
   "execution_count": 78,
   "metadata": {
    "scrolled": false
   },
   "outputs": [
    {
     "ename": "TypeError",
     "evalue": "__init__() got an unexpected keyword argument 'iid'",
     "output_type": "error",
     "traceback": [
      "\u001b[1;31m---------------------------------------------------------------------------\u001b[0m",
      "\u001b[1;31mTypeError\u001b[0m                                 Traceback (most recent call last)",
      "\u001b[1;32m<ipython-input-78-d642b0c25040>\u001b[0m in \u001b[0;36m<module>\u001b[1;34m\u001b[0m\n\u001b[0;32m     12\u001b[0m }\n\u001b[0;32m     13\u001b[0m \u001b[1;33m\u001b[0m\u001b[0m\n\u001b[1;32m---> 14\u001b[1;33m model_bs = BayesSearchCV(\n\u001b[0m\u001b[0;32m     15\u001b[0m     \u001b[0mestimator\u001b[0m\u001b[1;33m,\u001b[0m\u001b[1;33m\u001b[0m\u001b[1;33m\u001b[0m\u001b[0m\n\u001b[0;32m     16\u001b[0m     \u001b[0msearch_spaces\u001b[0m\u001b[1;33m=\u001b[0m\u001b[0mparams\u001b[0m\u001b[1;33m,\u001b[0m\u001b[1;33m\u001b[0m\u001b[1;33m\u001b[0m\u001b[0m\n",
      "\u001b[1;32mc:\\users\\ncarv\\.virtualenvs\\kaggle_challenge-o2xpdu7v\\lib\\site-packages\\skopt\\searchcv.py\u001b[0m in \u001b[0;36m__init__\u001b[1;34m(self, estimator, search_spaces, optimizer_kwargs, n_iter, scoring, fit_params, n_jobs, n_points, iid, refit, cv, verbose, pre_dispatch, random_state, error_score, return_train_score)\u001b[0m\n\u001b[0;32m    307\u001b[0m         \u001b[0mself\u001b[0m\u001b[1;33m.\u001b[0m\u001b[0mfit_params\u001b[0m \u001b[1;33m=\u001b[0m \u001b[0mfit_params\u001b[0m\u001b[1;33m\u001b[0m\u001b[1;33m\u001b[0m\u001b[0m\n\u001b[0;32m    308\u001b[0m \u001b[1;33m\u001b[0m\u001b[0m\n\u001b[1;32m--> 309\u001b[1;33m         super(BayesSearchCV, self).__init__(\n\u001b[0m\u001b[0;32m    310\u001b[0m              \u001b[0mestimator\u001b[0m\u001b[1;33m=\u001b[0m\u001b[0mestimator\u001b[0m\u001b[1;33m,\u001b[0m \u001b[0mscoring\u001b[0m\u001b[1;33m=\u001b[0m\u001b[0mscoring\u001b[0m\u001b[1;33m,\u001b[0m\u001b[1;33m\u001b[0m\u001b[1;33m\u001b[0m\u001b[0m\n\u001b[0;32m    311\u001b[0m              \u001b[0mn_jobs\u001b[0m\u001b[1;33m=\u001b[0m\u001b[0mn_jobs\u001b[0m\u001b[1;33m,\u001b[0m \u001b[0miid\u001b[0m\u001b[1;33m=\u001b[0m\u001b[0miid\u001b[0m\u001b[1;33m,\u001b[0m \u001b[0mrefit\u001b[0m\u001b[1;33m=\u001b[0m\u001b[0mrefit\u001b[0m\u001b[1;33m,\u001b[0m \u001b[0mcv\u001b[0m\u001b[1;33m=\u001b[0m\u001b[0mcv\u001b[0m\u001b[1;33m,\u001b[0m \u001b[0mverbose\u001b[0m\u001b[1;33m=\u001b[0m\u001b[0mverbose\u001b[0m\u001b[1;33m,\u001b[0m\u001b[1;33m\u001b[0m\u001b[1;33m\u001b[0m\u001b[0m\n",
      "\u001b[1;32mc:\\users\\ncarv\\.virtualenvs\\kaggle_challenge-o2xpdu7v\\lib\\site-packages\\sklearn\\utils\\validation.py\u001b[0m in \u001b[0;36minner_f\u001b[1;34m(*args, **kwargs)\u001b[0m\n\u001b[0;32m     61\u001b[0m             \u001b[0mextra_args\u001b[0m \u001b[1;33m=\u001b[0m \u001b[0mlen\u001b[0m\u001b[1;33m(\u001b[0m\u001b[0margs\u001b[0m\u001b[1;33m)\u001b[0m \u001b[1;33m-\u001b[0m \u001b[0mlen\u001b[0m\u001b[1;33m(\u001b[0m\u001b[0mall_args\u001b[0m\u001b[1;33m)\u001b[0m\u001b[1;33m\u001b[0m\u001b[1;33m\u001b[0m\u001b[0m\n\u001b[0;32m     62\u001b[0m             \u001b[1;32mif\u001b[0m \u001b[0mextra_args\u001b[0m \u001b[1;33m<=\u001b[0m \u001b[1;36m0\u001b[0m\u001b[1;33m:\u001b[0m\u001b[1;33m\u001b[0m\u001b[1;33m\u001b[0m\u001b[0m\n\u001b[1;32m---> 63\u001b[1;33m                 \u001b[1;32mreturn\u001b[0m \u001b[0mf\u001b[0m\u001b[1;33m(\u001b[0m\u001b[1;33m*\u001b[0m\u001b[0margs\u001b[0m\u001b[1;33m,\u001b[0m \u001b[1;33m**\u001b[0m\u001b[0mkwargs\u001b[0m\u001b[1;33m)\u001b[0m\u001b[1;33m\u001b[0m\u001b[1;33m\u001b[0m\u001b[0m\n\u001b[0m\u001b[0;32m     64\u001b[0m \u001b[1;33m\u001b[0m\u001b[0m\n\u001b[0;32m     65\u001b[0m             \u001b[1;31m# extra_args > 0\u001b[0m\u001b[1;33m\u001b[0m\u001b[1;33m\u001b[0m\u001b[1;33m\u001b[0m\u001b[0m\n",
      "\u001b[1;31mTypeError\u001b[0m: __init__() got an unexpected keyword argument 'iid'"
     ]
    }
   ],
   "source": [
    "##Bayes Search\n",
    "estimator = make_pipeline(\n",
    "    OrdinalEncoder(),\n",
    "    SimpleImputer(),\n",
    "    RandomForestClassifier(random_state=42)\n",
    ")\n",
    "\n",
    "params = {\n",
    "    'simpleimputer__strategy': ['mean','median'],\n",
    "    'randomforestclassifier__n_estimators': [20,40,60,80,100],\n",
    "    'randomforestclassifier__max_depth': [5,10,15,20,25,30]\n",
    "}\n",
    "\n",
    "model_bs = BayesSearchCV(\n",
    "    estimator,\n",
    "    search_spaces=params,\n",
    "    n_iter=25,\n",
    "    n_jobs=-2,\n",
    "    random_state=42,\n",
    "    verbose=1,\n",
    "    iid=False\n",
    ")\n",
    "\n",
    "model_gs.fit(X_train, y_train);"
   ]
  },
  {
   "cell_type": "code",
   "execution_count": 49,
   "metadata": {},
   "outputs": [
    {
     "name": "stdout",
     "output_type": "stream",
     "text": [
      "FOREST: Training Accuracy: 0.9606481481481481\n",
      "FOREST: Validation Accuracy: 0.8127104377104377\n"
     ]
    }
   ],
   "source": [
    "model=model_bs\n",
    "print('FOREST: Training Accuracy:', model.score(X_train, y_train))\n",
    "print('FOREST: Validation Accuracy:', model.score(X_val, y_val))\n",
    "results = results.append(record(model))"
   ]
  },
  {
   "cell_type": "code",
   "execution_count": 50,
   "metadata": {},
   "outputs": [
    {
     "data": {
      "text/html": [
       "<div>\n",
       "<style scoped>\n",
       "    .dataframe tbody tr th:only-of-type {\n",
       "        vertical-align: middle;\n",
       "    }\n",
       "\n",
       "    .dataframe tbody tr th {\n",
       "        vertical-align: top;\n",
       "    }\n",
       "\n",
       "    .dataframe thead th {\n",
       "        text-align: right;\n",
       "    }\n",
       "</style>\n",
       "<table border=\"1\" class=\"dataframe\">\n",
       "  <thead>\n",
       "    <tr style=\"text-align: right;\">\n",
       "      <th></th>\n",
       "      <th>model</th>\n",
       "      <th>score</th>\n",
       "      <th>params</th>\n",
       "    </tr>\n",
       "  </thead>\n",
       "  <tbody>\n",
       "    <tr>\n",
       "      <th>0</th>\n",
       "      <td>(OrdinalEncoder(cols=['funder', 'installer', 'basin', 'region', 'lga', 'ward',\\n                     'public_meeting', 'scheme_management', 'scheme_name',\\n                     'permit', 'extraction_type_group', 'management_group',\\n                     'payment_type', 'quality_group', 'quantity_group',\\n                     'source_type', 'source_class', 'waterpoint_type_group'],\\n               mapping=[{'col': 'funder', 'data_type': dtype('O'),\\n                         'mapping': Dmdd                    1   \\nCmsr                    2   \\nKkkt                    3...\\n                        {'col': 'source_type', 'data_type': dtype('O'),\\n                         'mapping': spring                  1\\nshallow well            2\\nriver/lake              3\\nborehole                4\\ndam                     5\\nrainwater harvesting    6\\nother                   7\\nNaN                    -2\\ndtype: int64},\\n                        {'col': 'source_class', 'data_type': dtype('O'),\\n                         'mapping': groundwater    1\\nsurface        2\\nunknown        3\\nNaN           -2\\ndtype: int64},\\n                        {'col': 'waterpoint_type_group',\\n                         'data_type': dtype('O'),\\n                         'mapping': communal standpipe    1\\nhand pump             2\\nother                 3\\nimproved spring       4\\ncattle trough         5\\ndam                   6\\nNaN                  -2\\ndtype: int64}]), SimpleImputer(strategy='median'), DecisionTreeClassifier(random_state=42))</td>\n",
       "      <td>0.754714</td>\n",
       "      <td>{'simpleimputer__strategy': 'median', 'randomforestclassifier__n_estimators': 100, 'randomforestclassifier__max_depth': 20}</td>\n",
       "    </tr>\n",
       "    <tr>\n",
       "      <th>0</th>\n",
       "      <td>RandomizedSearchCV(cv=10,\\n                   estimator=Pipeline(steps=[('ordinalencoder',\\n                                              OrdinalEncoder()),\\n                                             ('simpleimputer', SimpleImputer()),\\n                                             ('randomforestclassifier',\\n                                              RandomForestClassifier(random_state=42))]),\\n                   n_iter=30, n_jobs=-2,\\n                   param_distributions={'randomforestclassifier__max_depth': range(5, 36, 5),\\n                                        'randomforestclassifier__n_estimators': [25,\\n                                                                                 50,\\n                                                                                 75,\\n                                                                                 100],\\n                                        'simpleimputer__strategy': ['mean',\\n                                                                    'median']},\\n                   verbose=1)</td>\n",
       "      <td>0.813131</td>\n",
       "      <td>{'simpleimputer__strategy': 'median', 'randomforestclassifier__n_estimators': 100, 'randomforestclassifier__max_depth': 20}</td>\n",
       "    </tr>\n",
       "    <tr>\n",
       "      <th>0</th>\n",
       "      <td>RandomizedSearchCV(cv=15,\\n                   estimator=Pipeline(steps=[('ordinalencoder',\\n                                              OrdinalEncoder()),\\n                                             ('simpleimputer', SimpleImputer()),\\n                                             ('randomforestclassifier',\\n                                              RandomForestClassifier(random_state=42))]),\\n                   n_iter=45, n_jobs=-2,\\n                   param_distributions={'randomforestclassifier__max_depth': range(5, 36, 5),\\n                                        'randomforestclassifier__n_estimators': [25,\\n                                                                                 50,\\n                                                                                 75,\\n                                                                                 100],\\n                                        'simpleimputer__strategy': ['mean',\\n                                                                    'median']},\\n                   verbose=1)</td>\n",
       "      <td>0.813131</td>\n",
       "      <td>{'simpleimputer__strategy': 'median', 'randomforestclassifier__n_estimators': 100, 'randomforestclassifier__max_depth': 20}</td>\n",
       "    </tr>\n",
       "    <tr>\n",
       "      <th>0</th>\n",
       "      <td>GridSearchCV(cv=10,\\n             estimator=Pipeline(steps=[('ordinalencoder', OrdinalEncoder()),\\n                                       ('simpleimputer', SimpleImputer()),\\n                                       ('randomforestclassifier',\\n                                        RandomForestClassifier(random_state=42))]),\\n             n_jobs=-2,\\n             param_grid={'randomforestclassifier__max_depth': range(15, 36, 5),\\n                         'randomforestclassifier__n_estimators': [100, 115,\\n                                                                  130],\\n                         'simpleimputer__strategy': ['median']},\\n             verbose=1)</td>\n",
       "      <td>0.813636</td>\n",
       "      <td>{'simpleimputer__strategy': 'median', 'randomforestclassifier__n_estimators': 100, 'randomforestclassifier__max_depth': 20}</td>\n",
       "    </tr>\n",
       "    <tr>\n",
       "      <th>0</th>\n",
       "      <td>GridSearchCV(cv=10,\\n             estimator=Pipeline(steps=[('ordinalencoder', OrdinalEncoder()),\\n                                       ('simpleimputer', SimpleImputer()),\\n                                       ('randomforestclassifier',\\n                                        RandomForestClassifier(random_state=42))]),\\n             n_jobs=-2,\\n             param_grid={'randomforestclassifier__max_depth': range(18, 25, 2),\\n                         'randomforestclassifier__n_estimators': range(98, 103),\\n                         'simpleimputer__strategy': ['median']},\\n             verbose=1)</td>\n",
       "      <td>0.812710</td>\n",
       "      <td>{'simpleimputer__strategy': 'median', 'randomforestclassifier__n_estimators': 100, 'randomforestclassifier__max_depth': 20}</td>\n",
       "    </tr>\n",
       "  </tbody>\n",
       "</table>\n",
       "</div>"
      ],
      "text/plain": [
       "                                                                                                                                                                                                                                                                                                                                                                                                                                                                                                                                                                                                                                                                                                                                                                                                                                                                                                                                                                                                                                                                                                                                                                                                                                                                                                                                                                                                                                                                                                                                                                                       model  \\\n",
       "0  (OrdinalEncoder(cols=['funder', 'installer', 'basin', 'region', 'lga', 'ward',\\n                     'public_meeting', 'scheme_management', 'scheme_name',\\n                     'permit', 'extraction_type_group', 'management_group',\\n                     'payment_type', 'quality_group', 'quantity_group',\\n                     'source_type', 'source_class', 'waterpoint_type_group'],\\n               mapping=[{'col': 'funder', 'data_type': dtype('O'),\\n                         'mapping': Dmdd                    1   \\nCmsr                    2   \\nKkkt                    3...\\n                        {'col': 'source_type', 'data_type': dtype('O'),\\n                         'mapping': spring                  1\\nshallow well            2\\nriver/lake              3\\nborehole                4\\ndam                     5\\nrainwater harvesting    6\\nother                   7\\nNaN                    -2\\ndtype: int64},\\n                        {'col': 'source_class', 'data_type': dtype('O'),\\n                         'mapping': groundwater    1\\nsurface        2\\nunknown        3\\nNaN           -2\\ndtype: int64},\\n                        {'col': 'waterpoint_type_group',\\n                         'data_type': dtype('O'),\\n                         'mapping': communal standpipe    1\\nhand pump             2\\nother                 3\\nimproved spring       4\\ncattle trough         5\\ndam                   6\\nNaN                  -2\\ndtype: int64}]), SimpleImputer(strategy='median'), DecisionTreeClassifier(random_state=42))   \n",
       "0  RandomizedSearchCV(cv=10,\\n                   estimator=Pipeline(steps=[('ordinalencoder',\\n                                              OrdinalEncoder()),\\n                                             ('simpleimputer', SimpleImputer()),\\n                                             ('randomforestclassifier',\\n                                              RandomForestClassifier(random_state=42))]),\\n                   n_iter=30, n_jobs=-2,\\n                   param_distributions={'randomforestclassifier__max_depth': range(5, 36, 5),\\n                                        'randomforestclassifier__n_estimators': [25,\\n                                                                                 50,\\n                                                                                 75,\\n                                                                                 100],\\n                                        'simpleimputer__strategy': ['mean',\\n                                                                    'median']},\\n                   verbose=1)                                                                                                                                                                                                                                                                                                                                                                                                                                                                          \n",
       "0  RandomizedSearchCV(cv=15,\\n                   estimator=Pipeline(steps=[('ordinalencoder',\\n                                              OrdinalEncoder()),\\n                                             ('simpleimputer', SimpleImputer()),\\n                                             ('randomforestclassifier',\\n                                              RandomForestClassifier(random_state=42))]),\\n                   n_iter=45, n_jobs=-2,\\n                   param_distributions={'randomforestclassifier__max_depth': range(5, 36, 5),\\n                                        'randomforestclassifier__n_estimators': [25,\\n                                                                                 50,\\n                                                                                 75,\\n                                                                                 100],\\n                                        'simpleimputer__strategy': ['mean',\\n                                                                    'median']},\\n                   verbose=1)                                                                                                                                                                                                                                                                                                                                                                                                                                                                          \n",
       "0  GridSearchCV(cv=10,\\n             estimator=Pipeline(steps=[('ordinalencoder', OrdinalEncoder()),\\n                                       ('simpleimputer', SimpleImputer()),\\n                                       ('randomforestclassifier',\\n                                        RandomForestClassifier(random_state=42))]),\\n             n_jobs=-2,\\n             param_grid={'randomforestclassifier__max_depth': range(15, 36, 5),\\n                         'randomforestclassifier__n_estimators': [100, 115,\\n                                                                  130],\\n                         'simpleimputer__strategy': ['median']},\\n             verbose=1)                                                                                                                                                                                                                                                                                                                                                                                                                                                                                                                                                                                                                                                                                                                                                                                                                                                                                            \n",
       "0  GridSearchCV(cv=10,\\n             estimator=Pipeline(steps=[('ordinalencoder', OrdinalEncoder()),\\n                                       ('simpleimputer', SimpleImputer()),\\n                                       ('randomforestclassifier',\\n                                        RandomForestClassifier(random_state=42))]),\\n             n_jobs=-2,\\n             param_grid={'randomforestclassifier__max_depth': range(18, 25, 2),\\n                         'randomforestclassifier__n_estimators': range(98, 103),\\n                         'simpleimputer__strategy': ['median']},\\n             verbose=1)                                                                                                                                                                                                                                                                                                                                                                                                                                                                                                                                                                                                                                                                                                                                                                                                                                                                                                                                                                \n",
       "\n",
       "      score  \\\n",
       "0  0.754714   \n",
       "0  0.813131   \n",
       "0  0.813131   \n",
       "0  0.813636   \n",
       "0  0.812710   \n",
       "\n",
       "                                                                                                                        params  \n",
       "0  {'simpleimputer__strategy': 'median', 'randomforestclassifier__n_estimators': 100, 'randomforestclassifier__max_depth': 20}  \n",
       "0  {'simpleimputer__strategy': 'median', 'randomforestclassifier__n_estimators': 100, 'randomforestclassifier__max_depth': 20}  \n",
       "0  {'simpleimputer__strategy': 'median', 'randomforestclassifier__n_estimators': 100, 'randomforestclassifier__max_depth': 20}  \n",
       "0  {'simpleimputer__strategy': 'median', 'randomforestclassifier__n_estimators': 100, 'randomforestclassifier__max_depth': 20}  \n",
       "0  {'simpleimputer__strategy': 'median', 'randomforestclassifier__n_estimators': 100, 'randomforestclassifier__max_depth': 20}  "
      ]
     },
     "execution_count": 50,
     "metadata": {},
     "output_type": "execute_result"
    }
   ],
   "source": [
    "results"
   ]
  },
  {
   "cell_type": "markdown",
   "metadata": {
    "deletable": false,
    "editable": false,
    "id": "YohKrZ-JK8JA",
    "nbgrader": {
     "cell_type": "markdown",
     "checksum": "4bde05f99cea7be1f76987db649f3452",
     "grade": false,
     "grade_id": "cell-c64ad7ac1b03f6da",
     "locked": true,
     "schema_version": 3,
     "solution": false,
     "task": false
    }
   },
   "source": [
    "## Check Metrics\n",
    "\n",
    "**Task 7:** Calculate the training and validation accuracy of your model, and assign them to the valiables `training_acc` and `validation_acc`, respectively. Your validation accuracy should be greater than your baseline accuracy."
   ]
  },
  {
   "cell_type": "code",
   "execution_count": null,
   "metadata": {
    "colab": {
     "base_uri": "https://localhost:8080/"
    },
    "id": "n1sII7c7NAal",
    "outputId": "3c089ab6-cb0b-4567-9263-50f4bde51c7c"
   },
   "outputs": [
    {
     "name": "stdout",
     "output_type": "stream",
     "text": [
      "TREE: Training Accuracy: 0.9983585858585858\n",
      "TREE: Validation Accuracy: 0.7547138047138047\n"
     ]
    }
   ],
   "source": [
    "print('TREE: Training Accuracy:', tree_model.score(X_train, y_train))\n",
    "print('TREE: Validation Accuracy:', tree_model.score(X_val, y_val))"
   ]
  },
  {
   "cell_type": "code",
   "execution_count": 28,
   "metadata": {},
   "outputs": [],
   "source": [
    "#Create dataframe with results\n",
    "results=pd.DataFrame()\n",
    "def record(model):\n",
    "  rec=pd.DataFrame({'model': [model],\n",
    "                    'score': [model.score(X_val, y_val)], \n",
    "                    'params': [model_rs.best_params_]\n",
    "                    })\n",
    "  return rec\n",
    "results = results.append(record(tree_model))\n"
   ]
  },
  {
   "cell_type": "code",
   "execution_count": 30,
   "metadata": {
    "colab": {
     "base_uri": "https://localhost:8080/"
    },
    "id": "4RAUR_LKM7cg",
    "outputId": "ce8e5543-bf0a-4305-bf93-896deae4aef5",
    "scrolled": true
   },
   "outputs": [
    {
     "name": "stdout",
     "output_type": "stream",
     "text": [
      "FOREST: Training Accuracy: 0.9605008417508417\n",
      "FOREST: Validation Accuracy: 0.8131313131313131\n"
     ]
    }
   ],
   "source": [
    "print('FOREST: Training Accuracy:', model_rs.score(X_train, y_train))\n",
    "print('FOREST: Validation Accuracy:', model_rs.score(X_val, y_val))\n",
    "results = results.append(record(model_rs))"
   ]
  },
  {
   "cell_type": "code",
   "execution_count": 31,
   "metadata": {
    "colab": {
     "base_uri": "https://localhost:8080/"
    },
    "id": "4RAUR_LKM7cg",
    "outputId": "ce8e5543-bf0a-4305-bf93-896deae4aef5"
   },
   "outputs": [
    {
     "name": "stdout",
     "output_type": "stream",
     "text": [
      "FOREST: Training Accuracy: 0.9605008417508417\n",
      "FOREST: Validation Accuracy: 0.8131313131313131\n"
     ]
    }
   ],
   "source": [
    "print('FOREST: Training Accuracy:', model_rs1.score(X_train, y_train))\n",
    "print('FOREST: Validation Accuracy:', model_rs1.score(X_val, y_val))\n",
    "results = results.append(record(model_rs1))"
   ]
  },
  {
   "cell_type": "code",
   "execution_count": 47,
   "metadata": {},
   "outputs": [
    {
     "name": "stdout",
     "output_type": "stream",
     "text": [
      "                                                                                                                                                                                                                                                                                                                                                                                                                                                                                                                                                                                                                                                                                              model  \\\n",
      "0  GridSearchCV(cv=10,\\n             estimator=Pipeline(steps=[('ordinalencoder', OrdinalEncoder()),\\n                                       ('simpleimputer', SimpleImputer()),\\n                                       ('randomforestclassifier',\\n                                        RandomForestClassifier(random_state=42))]),\\n             n_jobs=-2,\\n             param_grid={'randomforestclassifier__max_depth': range(15, 36, 5),\\n                         'randomforestclassifier__n_estimators': [100, 115,\\n                                                                  130],\\n                         'simpleimputer__strategy': ['median']},\\n             verbose=1)   \n",
      "\n",
      "      score  \\\n",
      "0  0.813636   \n",
      "\n",
      "                                                                                                                        params  \n",
      "0  {'simpleimputer__strategy': 'median', 'randomforestclassifier__n_estimators': 100, 'randomforestclassifier__max_depth': 20}  \n"
     ]
    },
    {
     "name": "stderr",
     "output_type": "stream",
     "text": [
      "<ipython-input-47-70a75f51deb8>:1: FutureWarning: Passing a negative integer is deprecated in version 1.0 and will not be supported in future version. Instead, use None to not limit the column width.\n",
      "  pd.set_option(\"display.max_colwidth\", -1)\n"
     ]
    }
   ],
   "source": [
    "pd.set_option(\"display.max_colwidth\", -1)\n",
    "print(results[results['score'] == results['score'].max()])\n"
   ]
  },
  {
   "cell_type": "markdown",
   "metadata": {
    "deletable": false,
    "editable": false,
    "id": "kpXttBJcK8JA",
    "nbgrader": {
     "cell_type": "markdown",
     "checksum": "7187c867400846bff1a47be9c11e4651",
     "grade": false,
     "grade_id": "cell-8d44b362513262b9",
     "locked": true,
     "schema_version": 3,
     "solution": false,
     "task": false
    }
   },
   "source": [
    "Tune Model"
   ]
  },
  {
   "cell_type": "code",
   "execution_count": null,
   "metadata": {
    "id": "CNN5FrCmN3Nj"
   },
   "outputs": [],
   "source": [
    "depths = range(2,42,2)\n",
    "\n",
    "train_acc=[]\n",
    "val_acc = []\n",
    "\n",
    "for depth in depths:\n",
    "  tree_model = make_pipeline(\n",
    "      OrdinalEncoder(),\n",
    "      SimpleImputer(strategy='mean'),\n",
    "      RandomForestClassifier(n_estimators=25,\n",
    "                             max_depth=depth,\n",
    "                             n_jobs=-1,\n",
    "                             random_state=42)\n",
    "  )\n",
    "\n",
    "  tree_model.fit(X_train,y_train)\n",
    "\n",
    "  train_acc.append(tree_model.score(X_train,y_train))\n",
    "  val_acc.append(tree_model.score(X_val,y_val))"
   ]
  },
  {
   "cell_type": "code",
   "execution_count": null,
   "metadata": {
    "colab": {
     "base_uri": "https://localhost:8080/",
     "height": 281
    },
    "id": "-XbXH69ZORet",
    "outputId": "36e5fef7-82e6-4b84-a84c-79c646c65602"
   },
   "outputs": [
    {
     "data": {
      "text/plain": [
       "<matplotlib.collections.PathCollection at 0x7f3d5e8faeb8>"
      ]
     },
     "execution_count": 14,
     "metadata": {
      "tags": []
     },
     "output_type": "execute_result"
    },
    {
     "data": {
      "image/png": "[encoded data removed]",
      "text/plain": [
       "<Figure size 432x288 with 1 Axes>"
      ]
     },
     "metadata": {
      "needs_background": "light",
      "tags": []
     },
     "output_type": "display_data"
    }
   ],
   "source": [
    "plt.scatter(depths, val_acc)\n",
    "# len(depth)\n"
   ]
  },
  {
   "cell_type": "code",
   "execution_count": 53,
   "metadata": {
    "id": "bdHsvStHPNJD"
   },
   "outputs": [
    {
     "ename": "AttributeError",
     "evalue": "'GridSearchCV' object has no attribute 'randomforestclassifier'",
     "output_type": "error",
     "traceback": [
      "\u001b[1;31m---------------------------------------------------------------------------\u001b[0m",
      "\u001b[1;31mAttributeError\u001b[0m                            Traceback (most recent call last)",
      "\u001b[1;32m<ipython-input-53-9b87861b1574>\u001b[0m in \u001b[0;36m<module>\u001b[1;34m\u001b[0m\n\u001b[1;32m----> 1\u001b[1;33m \u001b[0mimportances\u001b[0m \u001b[1;33m=\u001b[0m \u001b[0mmodel_gs\u001b[0m\u001b[1;33m.\u001b[0m\u001b[0mrandomforestclassifier\u001b[0m\u001b[1;33m.\u001b[0m\u001b[0mfeature_importances_\u001b[0m\u001b[1;33m\u001b[0m\u001b[1;33m\u001b[0m\u001b[0m\n\u001b[0m",
      "\u001b[1;31mAttributeError\u001b[0m: 'GridSearchCV' object has no attribute 'randomforestclassifier'"
     ]
    }
   ],
   "source": [
    "importances = model_gs.randomforestclassifier.feature_importances_"
   ]
  },
  {
   "cell_type": "code",
   "execution_count": null,
   "metadata": {
    "colab": {
     "base_uri": "https://localhost:8080/",
     "height": 295
    },
    "id": "1YD4RMtePOOo",
    "outputId": "71858f3d-942b-42ba-b639-3fd5fae3243a"
   },
   "outputs": [
    {
     "data": {
      "text/plain": [
       "Text(0.5, 0, 'Gini Importance')"
      ]
     },
     "execution_count": 16,
     "metadata": {
      "tags": []
     },
     "output_type": "execute_result"
    },
    {
     "data": {
      "image/png": "[encoded data removed]",
      "text/plain": [
       "<Figure size 432x288 with 1 Axes>"
      ]
     },
     "metadata": {
      "needs_background": "light",
      "tags": []
     },
     "output_type": "display_data"
    }
   ],
   "source": [
    "features = X_train.columns\n",
    "\n",
    "feat_imp = pd.Series(importances, index=features).sort_values()\n",
    "feat_imp.head(100).plot(kind= 'barh')\n",
    "plt.xlabel('Gini Importance')"
   ]
  },
  {
   "cell_type": "markdown",
   "metadata": {
    "deletable": false,
    "editable": false,
    "id": "lTFgxA0BK8JB",
    "nbgrader": {
     "cell_type": "markdown",
     "checksum": "dbe8e21b37bb8bbcf790f6c3bb82409d",
     "grade": false,
     "grade_id": "cell-20e570b001622e4d",
     "locked": true,
     "schema_version": 3,
     "solution": false,
     "task": false
    }
   },
   "source": [
    "## Create Kaggle Submission\n",
    "\n",
    "**Task 8:** Load `'waterpumps/test.csv'` into a DataFrame named `X_test`. Generate a list of predictions, and then put them into a DataFrame `submission`. Be sure that `submission` has the same index as `X_test` and that the column name for your predictions is `'status_group'`.  "
   ]
  },
  {
   "cell_type": "code",
   "execution_count": null,
   "metadata": {
    "colab": {
     "base_uri": "https://localhost:8080/",
     "height": 795
    },
    "deletable": false,
    "id": "yLsYI5jeK8JB",
    "nbgrader": {
     "cell_type": "code",
     "checksum": "751e42e23ad01c840e677d9061441489",
     "grade": false,
     "grade_id": "cell-f449c26c27917323",
     "locked": false,
     "schema_version": 3,
     "solution": true,
     "task": false
    },
    "outputId": "7a3d6aa9-3886-41af-9552-b32cb82e4345"
   },
   "outputs": [
    {
     "data": {
      "text/html": [
       "<div>\n",
       "<style scoped>\n",
       "    .dataframe tbody tr th:only-of-type {\n",
       "        vertical-align: middle;\n",
       "    }\n",
       "\n",
       "    .dataframe tbody tr th {\n",
       "        vertical-align: top;\n",
       "    }\n",
       "\n",
       "    .dataframe thead th {\n",
       "        text-align: right;\n",
       "    }\n",
       "</style>\n",
       "<table border=\"1\" class=\"dataframe\">\n",
       "  <thead>\n",
       "    <tr style=\"text-align: right;\">\n",
       "      <th></th>\n",
       "      <th>status_group</th>\n",
       "    </tr>\n",
       "    <tr>\n",
       "      <th>id</th>\n",
       "      <th></th>\n",
       "    </tr>\n",
       "  </thead>\n",
       "  <tbody>\n",
       "    <tr>\n",
       "      <th>50785</th>\n",
       "      <td>non functional</td>\n",
       "    </tr>\n",
       "    <tr>\n",
       "      <th>51630</th>\n",
       "      <td>functional</td>\n",
       "    </tr>\n",
       "    <tr>\n",
       "      <th>17168</th>\n",
       "      <td>functional</td>\n",
       "    </tr>\n",
       "    <tr>\n",
       "      <th>45559</th>\n",
       "      <td>non functional</td>\n",
       "    </tr>\n",
       "    <tr>\n",
       "      <th>49871</th>\n",
       "      <td>functional</td>\n",
       "    </tr>\n",
       "    <tr>\n",
       "      <th>52449</th>\n",
       "      <td>functional</td>\n",
       "    </tr>\n",
       "    <tr>\n",
       "      <th>24806</th>\n",
       "      <td>non functional</td>\n",
       "    </tr>\n",
       "    <tr>\n",
       "      <th>28965</th>\n",
       "      <td>non functional</td>\n",
       "    </tr>\n",
       "    <tr>\n",
       "      <th>36301</th>\n",
       "      <td>non functional</td>\n",
       "    </tr>\n",
       "    <tr>\n",
       "      <th>54122</th>\n",
       "      <td>functional</td>\n",
       "    </tr>\n",
       "    <tr>\n",
       "      <th>419</th>\n",
       "      <td>functional</td>\n",
       "    </tr>\n",
       "    <tr>\n",
       "      <th>45750</th>\n",
       "      <td>non functional</td>\n",
       "    </tr>\n",
       "    <tr>\n",
       "      <th>653</th>\n",
       "      <td>non functional</td>\n",
       "    </tr>\n",
       "    <tr>\n",
       "      <th>14017</th>\n",
       "      <td>non functional</td>\n",
       "    </tr>\n",
       "    <tr>\n",
       "      <th>40228</th>\n",
       "      <td>functional</td>\n",
       "    </tr>\n",
       "    <tr>\n",
       "      <th>27714</th>\n",
       "      <td>functional</td>\n",
       "    </tr>\n",
       "    <tr>\n",
       "      <th>28785</th>\n",
       "      <td>non functional</td>\n",
       "    </tr>\n",
       "    <tr>\n",
       "      <th>18532</th>\n",
       "      <td>non functional</td>\n",
       "    </tr>\n",
       "    <tr>\n",
       "      <th>69961</th>\n",
       "      <td>functional</td>\n",
       "    </tr>\n",
       "    <tr>\n",
       "      <th>55083</th>\n",
       "      <td>non functional</td>\n",
       "    </tr>\n",
       "    <tr>\n",
       "      <th>8691</th>\n",
       "      <td>non functional</td>\n",
       "    </tr>\n",
       "    <tr>\n",
       "      <th>30331</th>\n",
       "      <td>non functional</td>\n",
       "    </tr>\n",
       "    <tr>\n",
       "      <th>70970</th>\n",
       "      <td>functional</td>\n",
       "    </tr>\n",
       "    <tr>\n",
       "      <th>61136</th>\n",
       "      <td>functional</td>\n",
       "    </tr>\n",
       "    <tr>\n",
       "      <th>28799</th>\n",
       "      <td>non functional</td>\n",
       "    </tr>\n",
       "  </tbody>\n",
       "</table>\n",
       "</div>"
      ],
      "text/plain": [
       "         status_group\n",
       "id                   \n",
       "50785  non functional\n",
       "51630      functional\n",
       "17168      functional\n",
       "45559  non functional\n",
       "49871      functional\n",
       "52449      functional\n",
       "24806  non functional\n",
       "28965  non functional\n",
       "36301  non functional\n",
       "54122      functional\n",
       "419        functional\n",
       "45750  non functional\n",
       "653    non functional\n",
       "14017  non functional\n",
       "40228      functional\n",
       "27714      functional\n",
       "28785  non functional\n",
       "18532  non functional\n",
       "69961      functional\n",
       "55083  non functional\n",
       "8691   non functional\n",
       "30331  non functional\n",
       "70970      functional\n",
       "61136      functional\n",
       "28799  non functional"
      ]
     },
     "execution_count": 17,
     "metadata": {
      "tags": []
     },
     "output_type": "execute_result"
    }
   ],
   "source": [
    "# X_test = pd.read_csv(DATA_PATH + 'waterpumps/test_features.csv', index_col='id') ### This was already done\n",
    "# YOUR CODE HERE\n",
    "model = rf_model\n",
    "X_test=X_test\n",
    "submission=pd.DataFrame(model.predict(X_test), columns=['status_group'], index=X_test.index)\n",
    "submission.head(25)"
   ]
  },
  {
   "cell_type": "markdown",
   "metadata": {
    "deletable": false,
    "editable": false,
    "id": "NUnBYYOpK8JB",
    "nbgrader": {
     "cell_type": "markdown",
     "checksum": "c3ea8f69c1f63c2fc7c6b4dc9f36a4c7",
     "grade": false,
     "grade_id": "cell-88bdf757927010d2",
     "locked": true,
     "schema_version": 3,
     "solution": false,
     "task": false
    }
   },
   "source": [
    "**Test 8**"
   ]
  },
  {
   "cell_type": "markdown",
   "metadata": {
    "deletable": false,
    "editable": false,
    "id": "dOC48EpdK8JC",
    "nbgrader": {
     "cell_type": "markdown",
     "checksum": "9e1dd2ff80244929b807a600180c8db5",
     "grade": false,
     "grade_id": "cell-7501482e73c658e0",
     "locked": true,
     "schema_version": 3,
     "solution": false,
     "task": false
    }
   },
   "source": [
    "**Task 9 (`stretch goal`):** Save `submission` as a csv file using [`.to_csv()`](https://pandas.pydata.org/pandas-docs/stable/reference/api/pandas.DataFrame.to_csv.html) and submit it to our Kaggle competition."
   ]
  },
  {
   "cell_type": "code",
   "execution_count": null,
   "metadata": {
    "deletable": false,
    "id": "TgKv-5zsK8JC",
    "nbgrader": {
     "cell_type": "code",
     "checksum": "53ceb2bae5f41f56eba8f65b2b56c38c",
     "grade": false,
     "grade_id": "cell-6a87d8169b9c48ea",
     "locked": false,
     "schema_version": 3,
     "solution": true,
     "task": false
    }
   },
   "outputs": [],
   "source": [
    "# YOUR CODE HERE\n"
   ]
  },
  {
   "cell_type": "code",
   "execution_count": null,
   "metadata": {
    "id": "Y84N5Zb9K5SI"
   },
   "outputs": [],
   "source": [
    "from google.colab import drive\n",
    "drive.mount('drive')"
   ]
  },
  {
   "cell_type": "code",
   "execution_count": null,
   "metadata": {
    "id": "U6lrPgLJL04G"
   },
   "outputs": [],
   "source": [
    "submission.to_csv('submission.csv')\n",
    "!cp \"submission.csv\" \"drive\\My Drive\""
   ]
  },
  {
   "cell_type": "code",
   "execution_count": null,
   "metadata": {
    "id": "ZySmOdMsLG5W"
   },
   "outputs": [],
   "source": [
    "submission.to_csv()"
   ]
  },
  {
   "cell_type": "markdown",
   "metadata": {
    "deletable": false,
    "editable": false,
    "id": "IvC-ZpVtK8JD",
    "nbgrader": {
     "cell_type": "markdown",
     "checksum": "cba7b6461310b5fab62266e978074a78",
     "grade": false,
     "grade_id": "cell-591ad5292d4e1ee1",
     "locked": true,
     "schema_version": 3,
     "solution": false,
     "task": false
    }
   },
   "source": [
    "## Explain\n",
    "\n",
    "**Task 10 (`stretch goal`):** Make a horizontal barchart of the 10 most important features for your model."
   ]
  },
  {
   "cell_type": "code",
   "execution_count": null,
   "metadata": {
    "deletable": false,
    "id": "ydI3SH3yK8JD",
    "nbgrader": {
     "cell_type": "code",
     "checksum": "6e22d3e237d7383a3ca1bfa71f995bfc",
     "grade": false,
     "grade_id": "cell-297ec1119fbbaad5",
     "locked": false,
     "schema_version": 3,
     "solution": true,
     "task": false
    }
   },
   "outputs": [],
   "source": [
    "import matplotlib.pyplot as plt\n",
    "\n",
    "# YOUR CODE HERE\n",
    "raise NotImplementedError()"
   ]
  }
 ],
 "metadata": {
  "colab": {
   "name": " Nicolas Carvajal - DS-module-project-221.ipynb",
   "provenance": []
  },
  "kernelspec": {
   "display_name": "Python 3",
   "language": "python",
   "name": "python3"
  },
  "language_info": {
   "codemirror_mode": {
    "name": "ipython",
    "version": 3
   },
   "file_extension": ".py",
   "mimetype": "text/x-python",
   "name": "python",
   "nbconvert_exporter": "python",
   "pygments_lexer": "ipython3",
   "version": "3.8.7"
  }
 },
 "nbformat": 4,
 "nbformat_minor": 1
}
